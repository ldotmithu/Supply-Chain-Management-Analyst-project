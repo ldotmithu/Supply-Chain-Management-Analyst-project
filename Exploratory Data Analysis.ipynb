{
 "cells": [
  {
   "cell_type": "code",
   "execution_count": 1,
   "id": "da3382ea",
   "metadata": {},
   "outputs": [],
   "source": [
    "import pandas as pd\n",
    "import matplotlib.pyplot as plt\n",
    "import seaborn as sns\n",
    "import numpy as np"
   ]
  },
  {
   "cell_type": "code",
   "execution_count": 4,
   "id": "dbfc3817",
   "metadata": {},
   "outputs": [
    {
     "data": {
      "text/html": [
       "<div>\n",
       "<style scoped>\n",
       "    .dataframe tbody tr th:only-of-type {\n",
       "        vertical-align: middle;\n",
       "    }\n",
       "\n",
       "    .dataframe tbody tr th {\n",
       "        vertical-align: top;\n",
       "    }\n",
       "\n",
       "    .dataframe thead th {\n",
       "        text-align: right;\n",
       "    }\n",
       "</style>\n",
       "<table border=\"1\" class=\"dataframe\">\n",
       "  <thead>\n",
       "    <tr style=\"text-align: right;\">\n",
       "      <th></th>\n",
       "      <th>Product type</th>\n",
       "      <th>SKU</th>\n",
       "      <th>Price</th>\n",
       "      <th>Availability</th>\n",
       "      <th>Number of products sold</th>\n",
       "      <th>Revenue generated</th>\n",
       "      <th>Customer demographics</th>\n",
       "      <th>Stock levels</th>\n",
       "      <th>Lead times</th>\n",
       "      <th>Order quantities</th>\n",
       "      <th>...</th>\n",
       "      <th>Location</th>\n",
       "      <th>Lead time</th>\n",
       "      <th>Production volumes</th>\n",
       "      <th>Manufacturing lead time</th>\n",
       "      <th>Manufacturing costs</th>\n",
       "      <th>Inspection results</th>\n",
       "      <th>Defect rates</th>\n",
       "      <th>Transportation modes</th>\n",
       "      <th>Routes</th>\n",
       "      <th>Costs</th>\n",
       "    </tr>\n",
       "  </thead>\n",
       "  <tbody>\n",
       "    <tr>\n",
       "      <th>0</th>\n",
       "      <td>haircare</td>\n",
       "      <td>SKU0</td>\n",
       "      <td>69.808006</td>\n",
       "      <td>55</td>\n",
       "      <td>802</td>\n",
       "      <td>8661.996792</td>\n",
       "      <td>Non-binary</td>\n",
       "      <td>58</td>\n",
       "      <td>7</td>\n",
       "      <td>96</td>\n",
       "      <td>...</td>\n",
       "      <td>Mumbai</td>\n",
       "      <td>29</td>\n",
       "      <td>215</td>\n",
       "      <td>29</td>\n",
       "      <td>46.279879</td>\n",
       "      <td>Pending</td>\n",
       "      <td>0.226410</td>\n",
       "      <td>Road</td>\n",
       "      <td>Route B</td>\n",
       "      <td>187.752075</td>\n",
       "    </tr>\n",
       "    <tr>\n",
       "      <th>1</th>\n",
       "      <td>skincare</td>\n",
       "      <td>SKU1</td>\n",
       "      <td>14.843523</td>\n",
       "      <td>95</td>\n",
       "      <td>736</td>\n",
       "      <td>7460.900065</td>\n",
       "      <td>Female</td>\n",
       "      <td>53</td>\n",
       "      <td>30</td>\n",
       "      <td>37</td>\n",
       "      <td>...</td>\n",
       "      <td>Mumbai</td>\n",
       "      <td>23</td>\n",
       "      <td>517</td>\n",
       "      <td>30</td>\n",
       "      <td>33.616769</td>\n",
       "      <td>Pending</td>\n",
       "      <td>4.854068</td>\n",
       "      <td>Road</td>\n",
       "      <td>Route B</td>\n",
       "      <td>503.065579</td>\n",
       "    </tr>\n",
       "    <tr>\n",
       "      <th>2</th>\n",
       "      <td>haircare</td>\n",
       "      <td>SKU2</td>\n",
       "      <td>11.319683</td>\n",
       "      <td>34</td>\n",
       "      <td>8</td>\n",
       "      <td>9577.749626</td>\n",
       "      <td>Unknown</td>\n",
       "      <td>1</td>\n",
       "      <td>10</td>\n",
       "      <td>88</td>\n",
       "      <td>...</td>\n",
       "      <td>Mumbai</td>\n",
       "      <td>12</td>\n",
       "      <td>971</td>\n",
       "      <td>27</td>\n",
       "      <td>30.688019</td>\n",
       "      <td>Pending</td>\n",
       "      <td>4.580593</td>\n",
       "      <td>Air</td>\n",
       "      <td>Route C</td>\n",
       "      <td>141.920282</td>\n",
       "    </tr>\n",
       "    <tr>\n",
       "      <th>3</th>\n",
       "      <td>skincare</td>\n",
       "      <td>SKU3</td>\n",
       "      <td>61.163343</td>\n",
       "      <td>68</td>\n",
       "      <td>83</td>\n",
       "      <td>7766.836426</td>\n",
       "      <td>Non-binary</td>\n",
       "      <td>23</td>\n",
       "      <td>13</td>\n",
       "      <td>59</td>\n",
       "      <td>...</td>\n",
       "      <td>Kolkata</td>\n",
       "      <td>24</td>\n",
       "      <td>937</td>\n",
       "      <td>18</td>\n",
       "      <td>35.624741</td>\n",
       "      <td>Fail</td>\n",
       "      <td>4.746649</td>\n",
       "      <td>Rail</td>\n",
       "      <td>Route A</td>\n",
       "      <td>254.776159</td>\n",
       "    </tr>\n",
       "    <tr>\n",
       "      <th>4</th>\n",
       "      <td>skincare</td>\n",
       "      <td>SKU4</td>\n",
       "      <td>4.805496</td>\n",
       "      <td>26</td>\n",
       "      <td>871</td>\n",
       "      <td>2686.505152</td>\n",
       "      <td>Non-binary</td>\n",
       "      <td>5</td>\n",
       "      <td>3</td>\n",
       "      <td>56</td>\n",
       "      <td>...</td>\n",
       "      <td>Delhi</td>\n",
       "      <td>5</td>\n",
       "      <td>414</td>\n",
       "      <td>3</td>\n",
       "      <td>92.065161</td>\n",
       "      <td>Fail</td>\n",
       "      <td>3.145580</td>\n",
       "      <td>Air</td>\n",
       "      <td>Route A</td>\n",
       "      <td>923.440632</td>\n",
       "    </tr>\n",
       "  </tbody>\n",
       "</table>\n",
       "<p>5 rows × 24 columns</p>\n",
       "</div>"
      ],
      "text/plain": [
       "  Product type   SKU      Price  Availability  Number of products sold  \\\n",
       "0     haircare  SKU0  69.808006            55                      802   \n",
       "1     skincare  SKU1  14.843523            95                      736   \n",
       "2     haircare  SKU2  11.319683            34                        8   \n",
       "3     skincare  SKU3  61.163343            68                       83   \n",
       "4     skincare  SKU4   4.805496            26                      871   \n",
       "\n",
       "   Revenue generated Customer demographics  Stock levels  Lead times  \\\n",
       "0        8661.996792            Non-binary            58           7   \n",
       "1        7460.900065                Female            53          30   \n",
       "2        9577.749626               Unknown             1          10   \n",
       "3        7766.836426            Non-binary            23          13   \n",
       "4        2686.505152            Non-binary             5           3   \n",
       "\n",
       "   Order quantities  ...  Location Lead time  Production volumes  \\\n",
       "0                96  ...    Mumbai        29                 215   \n",
       "1                37  ...    Mumbai        23                 517   \n",
       "2                88  ...    Mumbai        12                 971   \n",
       "3                59  ...   Kolkata        24                 937   \n",
       "4                56  ...     Delhi         5                 414   \n",
       "\n",
       "  Manufacturing lead time Manufacturing costs  Inspection results  \\\n",
       "0                      29           46.279879             Pending   \n",
       "1                      30           33.616769             Pending   \n",
       "2                      27           30.688019             Pending   \n",
       "3                      18           35.624741                Fail   \n",
       "4                       3           92.065161                Fail   \n",
       "\n",
       "   Defect rates  Transportation modes   Routes       Costs  \n",
       "0      0.226410                  Road  Route B  187.752075  \n",
       "1      4.854068                  Road  Route B  503.065579  \n",
       "2      4.580593                   Air  Route C  141.920282  \n",
       "3      4.746649                  Rail  Route A  254.776159  \n",
       "4      3.145580                   Air  Route A  923.440632  \n",
       "\n",
       "[5 rows x 24 columns]"
      ]
     },
     "execution_count": 4,
     "metadata": {},
     "output_type": "execute_result"
    }
   ],
   "source": [
    "data = pd.read_csv('Data/supply_chain_data.csv')\n",
    "data.head()"
   ]
  },
  {
   "cell_type": "code",
   "execution_count": 5,
   "id": "312e8ea2",
   "metadata": {},
   "outputs": [
    {
     "data": {
      "text/plain": [
       "(100, 24)"
      ]
     },
     "execution_count": 5,
     "metadata": {},
     "output_type": "execute_result"
    }
   ],
   "source": [
    "data.shape"
   ]
  },
  {
   "cell_type": "code",
   "execution_count": 6,
   "id": "0b58e7b7",
   "metadata": {},
   "outputs": [
    {
     "name": "stdout",
     "output_type": "stream",
     "text": [
      "<class 'pandas.core.frame.DataFrame'>\n",
      "RangeIndex: 100 entries, 0 to 99\n",
      "Data columns (total 24 columns):\n",
      " #   Column                   Non-Null Count  Dtype  \n",
      "---  ------                   --------------  -----  \n",
      " 0   Product type             100 non-null    object \n",
      " 1   SKU                      100 non-null    object \n",
      " 2   Price                    100 non-null    float64\n",
      " 3   Availability             100 non-null    int64  \n",
      " 4   Number of products sold  100 non-null    int64  \n",
      " 5   Revenue generated        100 non-null    float64\n",
      " 6   Customer demographics    100 non-null    object \n",
      " 7   Stock levels             100 non-null    int64  \n",
      " 8   Lead times               100 non-null    int64  \n",
      " 9   Order quantities         100 non-null    int64  \n",
      " 10  Shipping times           100 non-null    int64  \n",
      " 11  Shipping carriers        100 non-null    object \n",
      " 12  Shipping costs           100 non-null    float64\n",
      " 13  Supplier name            100 non-null    object \n",
      " 14  Location                 100 non-null    object \n",
      " 15  Lead time                100 non-null    int64  \n",
      " 16  Production volumes       100 non-null    int64  \n",
      " 17  Manufacturing lead time  100 non-null    int64  \n",
      " 18  Manufacturing costs      100 non-null    float64\n",
      " 19  Inspection results       100 non-null    object \n",
      " 20  Defect rates             100 non-null    float64\n",
      " 21  Transportation modes     100 non-null    object \n",
      " 22  Routes                   100 non-null    object \n",
      " 23  Costs                    100 non-null    float64\n",
      "dtypes: float64(6), int64(9), object(9)\n",
      "memory usage: 18.9+ KB\n"
     ]
    }
   ],
   "source": [
    "data.info()"
   ]
  },
  {
   "cell_type": "code",
   "execution_count": 7,
   "id": "477dcaf3",
   "metadata": {},
   "outputs": [
    {
     "data": {
      "text/html": [
       "<div>\n",
       "<style scoped>\n",
       "    .dataframe tbody tr th:only-of-type {\n",
       "        vertical-align: middle;\n",
       "    }\n",
       "\n",
       "    .dataframe tbody tr th {\n",
       "        vertical-align: top;\n",
       "    }\n",
       "\n",
       "    .dataframe thead th {\n",
       "        text-align: right;\n",
       "    }\n",
       "</style>\n",
       "<table border=\"1\" class=\"dataframe\">\n",
       "  <thead>\n",
       "    <tr style=\"text-align: right;\">\n",
       "      <th></th>\n",
       "      <th>Price</th>\n",
       "      <th>Availability</th>\n",
       "      <th>Number of products sold</th>\n",
       "      <th>Revenue generated</th>\n",
       "      <th>Stock levels</th>\n",
       "      <th>Lead times</th>\n",
       "      <th>Order quantities</th>\n",
       "      <th>Shipping times</th>\n",
       "      <th>Shipping costs</th>\n",
       "      <th>Lead time</th>\n",
       "      <th>Production volumes</th>\n",
       "      <th>Manufacturing lead time</th>\n",
       "      <th>Manufacturing costs</th>\n",
       "      <th>Defect rates</th>\n",
       "      <th>Costs</th>\n",
       "    </tr>\n",
       "  </thead>\n",
       "  <tbody>\n",
       "    <tr>\n",
       "      <th>count</th>\n",
       "      <td>100.000000</td>\n",
       "      <td>100.000000</td>\n",
       "      <td>100.000000</td>\n",
       "      <td>100.000000</td>\n",
       "      <td>100.000000</td>\n",
       "      <td>100.000000</td>\n",
       "      <td>100.000000</td>\n",
       "      <td>100.000000</td>\n",
       "      <td>100.000000</td>\n",
       "      <td>100.000000</td>\n",
       "      <td>100.000000</td>\n",
       "      <td>100.00000</td>\n",
       "      <td>100.000000</td>\n",
       "      <td>100.000000</td>\n",
       "      <td>100.000000</td>\n",
       "    </tr>\n",
       "    <tr>\n",
       "      <th>mean</th>\n",
       "      <td>49.462461</td>\n",
       "      <td>48.400000</td>\n",
       "      <td>460.990000</td>\n",
       "      <td>5776.048187</td>\n",
       "      <td>47.770000</td>\n",
       "      <td>15.960000</td>\n",
       "      <td>49.220000</td>\n",
       "      <td>5.750000</td>\n",
       "      <td>5.548149</td>\n",
       "      <td>17.080000</td>\n",
       "      <td>567.840000</td>\n",
       "      <td>14.77000</td>\n",
       "      <td>47.266693</td>\n",
       "      <td>2.277158</td>\n",
       "      <td>529.245782</td>\n",
       "    </tr>\n",
       "    <tr>\n",
       "      <th>std</th>\n",
       "      <td>31.168193</td>\n",
       "      <td>30.743317</td>\n",
       "      <td>303.780074</td>\n",
       "      <td>2732.841744</td>\n",
       "      <td>31.369372</td>\n",
       "      <td>8.785801</td>\n",
       "      <td>26.784429</td>\n",
       "      <td>2.724283</td>\n",
       "      <td>2.651376</td>\n",
       "      <td>8.846251</td>\n",
       "      <td>263.046861</td>\n",
       "      <td>8.91243</td>\n",
       "      <td>28.982841</td>\n",
       "      <td>1.461366</td>\n",
       "      <td>258.301696</td>\n",
       "    </tr>\n",
       "    <tr>\n",
       "      <th>min</th>\n",
       "      <td>1.699976</td>\n",
       "      <td>1.000000</td>\n",
       "      <td>8.000000</td>\n",
       "      <td>1061.618523</td>\n",
       "      <td>0.000000</td>\n",
       "      <td>1.000000</td>\n",
       "      <td>1.000000</td>\n",
       "      <td>1.000000</td>\n",
       "      <td>1.013487</td>\n",
       "      <td>1.000000</td>\n",
       "      <td>104.000000</td>\n",
       "      <td>1.00000</td>\n",
       "      <td>1.085069</td>\n",
       "      <td>0.018608</td>\n",
       "      <td>103.916248</td>\n",
       "    </tr>\n",
       "    <tr>\n",
       "      <th>25%</th>\n",
       "      <td>19.597823</td>\n",
       "      <td>22.750000</td>\n",
       "      <td>184.250000</td>\n",
       "      <td>2812.847151</td>\n",
       "      <td>16.750000</td>\n",
       "      <td>8.000000</td>\n",
       "      <td>26.000000</td>\n",
       "      <td>3.750000</td>\n",
       "      <td>3.540248</td>\n",
       "      <td>10.000000</td>\n",
       "      <td>352.000000</td>\n",
       "      <td>7.00000</td>\n",
       "      <td>22.983299</td>\n",
       "      <td>1.009650</td>\n",
       "      <td>318.778455</td>\n",
       "    </tr>\n",
       "    <tr>\n",
       "      <th>50%</th>\n",
       "      <td>51.239831</td>\n",
       "      <td>43.500000</td>\n",
       "      <td>392.500000</td>\n",
       "      <td>6006.352023</td>\n",
       "      <td>47.500000</td>\n",
       "      <td>17.000000</td>\n",
       "      <td>52.000000</td>\n",
       "      <td>6.000000</td>\n",
       "      <td>5.320534</td>\n",
       "      <td>18.000000</td>\n",
       "      <td>568.500000</td>\n",
       "      <td>14.00000</td>\n",
       "      <td>45.905622</td>\n",
       "      <td>2.141863</td>\n",
       "      <td>520.430444</td>\n",
       "    </tr>\n",
       "    <tr>\n",
       "      <th>75%</th>\n",
       "      <td>77.198228</td>\n",
       "      <td>75.000000</td>\n",
       "      <td>704.250000</td>\n",
       "      <td>8253.976921</td>\n",
       "      <td>73.000000</td>\n",
       "      <td>24.000000</td>\n",
       "      <td>71.250000</td>\n",
       "      <td>8.000000</td>\n",
       "      <td>7.601695</td>\n",
       "      <td>25.000000</td>\n",
       "      <td>797.000000</td>\n",
       "      <td>23.00000</td>\n",
       "      <td>68.621026</td>\n",
       "      <td>3.563995</td>\n",
       "      <td>763.078231</td>\n",
       "    </tr>\n",
       "    <tr>\n",
       "      <th>max</th>\n",
       "      <td>99.171329</td>\n",
       "      <td>100.000000</td>\n",
       "      <td>996.000000</td>\n",
       "      <td>9866.465458</td>\n",
       "      <td>100.000000</td>\n",
       "      <td>30.000000</td>\n",
       "      <td>96.000000</td>\n",
       "      <td>10.000000</td>\n",
       "      <td>9.929816</td>\n",
       "      <td>30.000000</td>\n",
       "      <td>985.000000</td>\n",
       "      <td>30.00000</td>\n",
       "      <td>99.466109</td>\n",
       "      <td>4.939255</td>\n",
       "      <td>997.413450</td>\n",
       "    </tr>\n",
       "  </tbody>\n",
       "</table>\n",
       "</div>"
      ],
      "text/plain": [
       "            Price  Availability  Number of products sold  Revenue generated  \\\n",
       "count  100.000000    100.000000               100.000000         100.000000   \n",
       "mean    49.462461     48.400000               460.990000        5776.048187   \n",
       "std     31.168193     30.743317               303.780074        2732.841744   \n",
       "min      1.699976      1.000000                 8.000000        1061.618523   \n",
       "25%     19.597823     22.750000               184.250000        2812.847151   \n",
       "50%     51.239831     43.500000               392.500000        6006.352023   \n",
       "75%     77.198228     75.000000               704.250000        8253.976921   \n",
       "max     99.171329    100.000000               996.000000        9866.465458   \n",
       "\n",
       "       Stock levels  Lead times  Order quantities  Shipping times  \\\n",
       "count    100.000000  100.000000        100.000000      100.000000   \n",
       "mean      47.770000   15.960000         49.220000        5.750000   \n",
       "std       31.369372    8.785801         26.784429        2.724283   \n",
       "min        0.000000    1.000000          1.000000        1.000000   \n",
       "25%       16.750000    8.000000         26.000000        3.750000   \n",
       "50%       47.500000   17.000000         52.000000        6.000000   \n",
       "75%       73.000000   24.000000         71.250000        8.000000   \n",
       "max      100.000000   30.000000         96.000000       10.000000   \n",
       "\n",
       "       Shipping costs   Lead time  Production volumes  \\\n",
       "count      100.000000  100.000000          100.000000   \n",
       "mean         5.548149   17.080000          567.840000   \n",
       "std          2.651376    8.846251          263.046861   \n",
       "min          1.013487    1.000000          104.000000   \n",
       "25%          3.540248   10.000000          352.000000   \n",
       "50%          5.320534   18.000000          568.500000   \n",
       "75%          7.601695   25.000000          797.000000   \n",
       "max          9.929816   30.000000          985.000000   \n",
       "\n",
       "       Manufacturing lead time  Manufacturing costs  Defect rates       Costs  \n",
       "count                100.00000           100.000000    100.000000  100.000000  \n",
       "mean                  14.77000            47.266693      2.277158  529.245782  \n",
       "std                    8.91243            28.982841      1.461366  258.301696  \n",
       "min                    1.00000             1.085069      0.018608  103.916248  \n",
       "25%                    7.00000            22.983299      1.009650  318.778455  \n",
       "50%                   14.00000            45.905622      2.141863  520.430444  \n",
       "75%                   23.00000            68.621026      3.563995  763.078231  \n",
       "max                   30.00000            99.466109      4.939255  997.413450  "
      ]
     },
     "execution_count": 7,
     "metadata": {},
     "output_type": "execute_result"
    }
   ],
   "source": [
    "data.describe()"
   ]
  },
  {
   "cell_type": "code",
   "execution_count": 8,
   "id": "9da11338",
   "metadata": {},
   "outputs": [],
   "source": [
    "# Data Cleaning\n",
    "data = data.dropna()  # Remove rows with missing values\n",
    "data['Price'] = pd.to_numeric(data['Price'], errors='coerce')\n",
    "data['Revenue generated'] = pd.to_numeric(data['Revenue generated'], errors='coerce')\n",
    "data['Shipping costs'] = pd.to_numeric(data['Shipping costs'], errors='coerce')\n",
    "data['Manufacturing costs'] = pd.to_numeric(data['Manufacturing costs'], errors='coerce')\n",
    "data['Defect rates'] = pd.to_numeric(data['Defect rates'], errors='coerce')"
   ]
  },
  {
   "cell_type": "code",
   "execution_count": 9,
   "id": "c17ae9ef",
   "metadata": {},
   "outputs": [
    {
     "data": {
      "text/html": [
       "<div>\n",
       "<style scoped>\n",
       "    .dataframe tbody tr th:only-of-type {\n",
       "        vertical-align: middle;\n",
       "    }\n",
       "\n",
       "    .dataframe tbody tr th {\n",
       "        vertical-align: top;\n",
       "    }\n",
       "\n",
       "    .dataframe thead th {\n",
       "        text-align: right;\n",
       "    }\n",
       "</style>\n",
       "<table border=\"1\" class=\"dataframe\">\n",
       "  <thead>\n",
       "    <tr style=\"text-align: right;\">\n",
       "      <th></th>\n",
       "      <th>Product type</th>\n",
       "      <th>SKU</th>\n",
       "      <th>Price</th>\n",
       "      <th>Availability</th>\n",
       "      <th>Number of products sold</th>\n",
       "      <th>Revenue generated</th>\n",
       "      <th>Customer demographics</th>\n",
       "      <th>Stock levels</th>\n",
       "      <th>Lead times</th>\n",
       "      <th>Order quantities</th>\n",
       "      <th>...</th>\n",
       "      <th>Location</th>\n",
       "      <th>Lead time</th>\n",
       "      <th>Production volumes</th>\n",
       "      <th>Manufacturing lead time</th>\n",
       "      <th>Manufacturing costs</th>\n",
       "      <th>Inspection results</th>\n",
       "      <th>Defect rates</th>\n",
       "      <th>Transportation modes</th>\n",
       "      <th>Routes</th>\n",
       "      <th>Costs</th>\n",
       "    </tr>\n",
       "  </thead>\n",
       "  <tbody>\n",
       "    <tr>\n",
       "      <th>2</th>\n",
       "      <td>haircare</td>\n",
       "      <td>SKU2</td>\n",
       "      <td>11.319683</td>\n",
       "      <td>34</td>\n",
       "      <td>8</td>\n",
       "      <td>9577.749626</td>\n",
       "      <td>Unknown</td>\n",
       "      <td>1</td>\n",
       "      <td>10</td>\n",
       "      <td>88</td>\n",
       "      <td>...</td>\n",
       "      <td>Mumbai</td>\n",
       "      <td>12</td>\n",
       "      <td>971</td>\n",
       "      <td>27</td>\n",
       "      <td>30.688019</td>\n",
       "      <td>Pending</td>\n",
       "      <td>4.580593</td>\n",
       "      <td>Air</td>\n",
       "      <td>Route C</td>\n",
       "      <td>141.920282</td>\n",
       "    </tr>\n",
       "    <tr>\n",
       "      <th>20</th>\n",
       "      <td>skincare</td>\n",
       "      <td>SKU20</td>\n",
       "      <td>96.341072</td>\n",
       "      <td>22</td>\n",
       "      <td>320</td>\n",
       "      <td>8128.027697</td>\n",
       "      <td>Unknown</td>\n",
       "      <td>27</td>\n",
       "      <td>12</td>\n",
       "      <td>68</td>\n",
       "      <td>...</td>\n",
       "      <td>Chennai</td>\n",
       "      <td>29</td>\n",
       "      <td>309</td>\n",
       "      <td>6</td>\n",
       "      <td>65.686260</td>\n",
       "      <td>Pass</td>\n",
       "      <td>4.231417</td>\n",
       "      <td>Air</td>\n",
       "      <td>Route B</td>\n",
       "      <td>493.871215</td>\n",
       "    </tr>\n",
       "    <tr>\n",
       "      <th>64</th>\n",
       "      <td>skincare</td>\n",
       "      <td>SKU64</td>\n",
       "      <td>89.634096</td>\n",
       "      <td>11</td>\n",
       "      <td>134</td>\n",
       "      <td>8458.730878</td>\n",
       "      <td>Female</td>\n",
       "      <td>73</td>\n",
       "      <td>27</td>\n",
       "      <td>75</td>\n",
       "      <td>...</td>\n",
       "      <td>Delhi</td>\n",
       "      <td>17</td>\n",
       "      <td>328</td>\n",
       "      <td>6</td>\n",
       "      <td>8.693042</td>\n",
       "      <td>Fail</td>\n",
       "      <td>0.159486</td>\n",
       "      <td>Air</td>\n",
       "      <td>Route C</td>\n",
       "      <td>771.225085</td>\n",
       "    </tr>\n",
       "    <tr>\n",
       "      <th>52</th>\n",
       "      <td>skincare</td>\n",
       "      <td>SKU52</td>\n",
       "      <td>98.031830</td>\n",
       "      <td>1</td>\n",
       "      <td>820</td>\n",
       "      <td>9435.762609</td>\n",
       "      <td>Male</td>\n",
       "      <td>64</td>\n",
       "      <td>11</td>\n",
       "      <td>11</td>\n",
       "      <td>...</td>\n",
       "      <td>Mumbai</td>\n",
       "      <td>10</td>\n",
       "      <td>727</td>\n",
       "      <td>27</td>\n",
       "      <td>9.166849</td>\n",
       "      <td>Pending</td>\n",
       "      <td>2.122472</td>\n",
       "      <td>Air</td>\n",
       "      <td>Route C</td>\n",
       "      <td>602.898499</td>\n",
       "    </tr>\n",
       "    <tr>\n",
       "      <th>93</th>\n",
       "      <td>haircare</td>\n",
       "      <td>SKU93</td>\n",
       "      <td>69.290831</td>\n",
       "      <td>88</td>\n",
       "      <td>114</td>\n",
       "      <td>4531.402134</td>\n",
       "      <td>Unknown</td>\n",
       "      <td>63</td>\n",
       "      <td>17</td>\n",
       "      <td>66</td>\n",
       "      <td>...</td>\n",
       "      <td>Chennai</td>\n",
       "      <td>21</td>\n",
       "      <td>824</td>\n",
       "      <td>20</td>\n",
       "      <td>35.633652</td>\n",
       "      <td>Fail</td>\n",
       "      <td>4.165782</td>\n",
       "      <td>Air</td>\n",
       "      <td>Route A</td>\n",
       "      <td>823.523846</td>\n",
       "    </tr>\n",
       "  </tbody>\n",
       "</table>\n",
       "<p>5 rows × 24 columns</p>\n",
       "</div>"
      ],
      "text/plain": [
       "   Product type    SKU      Price  Availability  Number of products sold  \\\n",
       "2      haircare   SKU2  11.319683            34                        8   \n",
       "20     skincare  SKU20  96.341072            22                      320   \n",
       "64     skincare  SKU64  89.634096            11                      134   \n",
       "52     skincare  SKU52  98.031830             1                      820   \n",
       "93     haircare  SKU93  69.290831            88                      114   \n",
       "\n",
       "    Revenue generated Customer demographics  Stock levels  Lead times  \\\n",
       "2         9577.749626               Unknown             1          10   \n",
       "20        8128.027697               Unknown            27          12   \n",
       "64        8458.730878                Female            73          27   \n",
       "52        9435.762609                  Male            64          11   \n",
       "93        4531.402134               Unknown            63          17   \n",
       "\n",
       "    Order quantities  ...  Location Lead time  Production volumes  \\\n",
       "2                 88  ...    Mumbai        12                 971   \n",
       "20                68  ...   Chennai        29                 309   \n",
       "64                75  ...     Delhi        17                 328   \n",
       "52                11  ...    Mumbai        10                 727   \n",
       "93                66  ...   Chennai        21                 824   \n",
       "\n",
       "   Manufacturing lead time Manufacturing costs  Inspection results  \\\n",
       "2                       27           30.688019             Pending   \n",
       "20                       6           65.686260                Pass   \n",
       "64                       6            8.693042                Fail   \n",
       "52                      27            9.166849             Pending   \n",
       "93                      20           35.633652                Fail   \n",
       "\n",
       "    Defect rates  Transportation modes   Routes       Costs  \n",
       "2       4.580593                   Air  Route C  141.920282  \n",
       "20      4.231417                   Air  Route B  493.871215  \n",
       "64      0.159486                   Air  Route C  771.225085  \n",
       "52      2.122472                   Air  Route C  602.898499  \n",
       "93      4.165782                   Air  Route A  823.523846  \n",
       "\n",
       "[5 rows x 24 columns]"
      ]
     },
     "execution_count": 9,
     "metadata": {},
     "output_type": "execute_result"
    }
   ],
   "source": [
    "data.sample(5)"
   ]
  },
  {
   "cell_type": "code",
   "execution_count": null,
   "id": "7d0d662b",
   "metadata": {},
   "outputs": [
    {
     "name": "stdout",
     "output_type": "stream",
     "text": [
      "Insight 1: Total Revenue by Product Type\n",
      "Product type\n",
      "skincare     241628.162133\n",
      "haircare     174455.390605\n",
      "cosmetics    161521.265999\n",
      "Name: Revenue generated, dtype: float64\n"
     ]
    }
   ],
   "source": [
    "#  Product Type Revenue Analysis\n",
    "revenue_by_product = data.groupby('Product type')['Revenue generated'].sum().sort_values(ascending=False)\n",
    "print(\"Insight 1: Total Revenue by Product Type\")\n",
    "print(revenue_by_product)"
   ]
  },
  {
   "cell_type": "markdown",
   "id": "7845a945",
   "metadata": {},
   "source": [
    "- Skincare products generate the highest total revenue, followed by haircare and cosmetics, indicating strong market demand for skincare items."
   ]
  },
  {
   "cell_type": "code",
   "execution_count": null,
   "id": "20898e51",
   "metadata": {},
   "outputs": [
    {
     "name": "stdout",
     "output_type": "stream",
     "text": [
      "\n",
      "Insight 2: Top 5 SKUs by Revenue\n",
      "      SKU  Revenue generated\n",
      "51  SKU51        9866.465458\n",
      "38  SKU38        9692.318040\n",
      "31  SKU31        9655.135103\n",
      "90  SKU90        9592.633570\n",
      "2    SKU2        9577.749626\n"
     ]
    }
   ],
   "source": [
    "# Top 5 SKUs by Revenue\n",
    "top_skus_revenue = data[['SKU', 'Revenue generated']].sort_values(by='Revenue generated', ascending=False).head(5)\n",
    "print(\"\\nInsight 2: Top 5 SKUs by Revenue\")\n",
    "print(top_skus_revenue)"
   ]
  },
  {
   "cell_type": "markdown",
   "id": "529111da",
   "metadata": {},
   "source": [
    "- SKU51 (haircare) and SKU98 (skincare) are among the top revenue-generating SKUs, suggesting these products are highly popular or priced effectively."
   ]
  },
  {
   "cell_type": "code",
   "execution_count": 12,
   "id": "ae796611",
   "metadata": {},
   "outputs": [
    {
     "name": "stdout",
     "output_type": "stream",
     "text": [
      "\n",
      "Insight 3: Average Price by Product Type\n",
      "Product type\n",
      "cosmetics    57.361058\n",
      "skincare     47.259329\n",
      "haircare     46.014279\n",
      "Name: Price, dtype: float64\n"
     ]
    }
   ],
   "source": [
    "# Average Price by Product Type\n",
    "avg_price_by_product = data.groupby('Product type')['Price'].mean().sort_values(ascending=False)\n",
    "print(\"\\nInsight 3: Average Price by Product Type\")\n",
    "print(avg_price_by_product)"
   ]
  },
  {
   "cell_type": "markdown",
   "id": "3020d953",
   "metadata": {},
   "source": [
    "- Skincare products have the highest average price, which may contribute to their high revenue despite varying sales volumes."
   ]
  },
  {
   "cell_type": "code",
   "execution_count": 14,
   "id": "2a54aaed",
   "metadata": {},
   "outputs": [
    {
     "name": "stdout",
     "output_type": "stream",
     "text": [
      "\n",
      "Insight 4: Average Defect Rates by Product Type\n",
      "Product type\n",
      "haircare     2.483150\n",
      "skincare     2.334681\n",
      "cosmetics    1.919287\n",
      "Name: Defect rates, dtype: float64\n"
     ]
    }
   ],
   "source": [
    "# Defect Rates by Product Type\n",
    "defect_by_product = data.groupby('Product type')['Defect rates'].mean().sort_values(ascending=False)\n",
    "print(\"\\nInsight 4: Average Defect Rates by Product Type\")\n",
    "print(defect_by_product)"
   ]
  },
  {
   "cell_type": "markdown",
   "id": "89f2bd43",
   "metadata": {},
   "source": [
    "- Haircare products exhibit the highest average defect rates, indicating potential quality control issues in their manufacturing process."
   ]
  },
  {
   "cell_type": "code",
   "execution_count": 15,
   "id": "255c41ff",
   "metadata": {},
   "outputs": [
    {
     "name": "stdout",
     "output_type": "stream",
     "text": [
      "\n",
      "Insight 5: Total Revenue by Supplier\n",
      "Supplier name\n",
      "Supplier 1    157528.995039\n",
      "Supplier 2    125467.418605\n",
      "Supplier 5    110343.463656\n",
      "Supplier 3     97795.979638\n",
      "Supplier 4     86468.961799\n",
      "Name: Revenue generated, dtype: float64\n"
     ]
    }
   ],
   "source": [
    "# Supplier Performance (Revenue Generated)\n",
    "supplier_revenue = data.groupby('Supplier name')['Revenue generated'].sum().sort_values(ascending=False)\n",
    "print(\"\\nInsight 5: Total Revenue by Supplier\")\n",
    "print(supplier_revenue)"
   ]
  },
  {
   "cell_type": "markdown",
   "id": "a46b7c28",
   "metadata": {},
   "source": [
    "- Supplier 1 contributes the most to revenue, likely due to their involvement in high-revenue SKUs or larger production volumes."
   ]
  },
  {
   "cell_type": "code",
   "execution_count": 16,
   "id": "616df459",
   "metadata": {},
   "outputs": [
    {
     "name": "stdout",
     "output_type": "stream",
     "text": [
      "\n",
      "Insight 6: Average Lead Time by Supplier\n",
      "Supplier name\n",
      "Supplier 3    20.133333\n",
      "Supplier 2    18.545455\n",
      "Supplier 5    18.055556\n",
      "Supplier 4    15.222222\n",
      "Supplier 1    14.777778\n",
      "Name: Lead time, dtype: float64\n"
     ]
    }
   ],
   "source": [
    "#  Average Lead Time by Supplier\n",
    "avg_lead_time_supplier = data.groupby('Supplier name')['Lead time'].mean().sort_values(ascending=False)\n",
    "print(\"\\nInsight 6: Average Lead Time by Supplier\")\n",
    "print(avg_lead_time_supplier)"
   ]
  },
  {
   "cell_type": "markdown",
   "id": "dc60889a",
   "metadata": {},
   "source": [
    "- Supplier 2 has the longest average lead times, which could impact supply chain efficiency and inventory management."
   ]
  },
  {
   "cell_type": "code",
   "execution_count": 17,
   "id": "bf96f941",
   "metadata": {},
   "outputs": [
    {
     "name": "stdout",
     "output_type": "stream",
     "text": [
      "\n",
      "Insight 7: Average Shipping Costs by Carrier\n",
      "Shipping carriers\n",
      "Carrier C    5.599292\n",
      "Carrier A    5.554923\n",
      "Carrier B    5.509247\n",
      "Name: Shipping costs, dtype: float64\n"
     ]
    }
   ],
   "source": [
    "#  Shipping Costs by Carrier\n",
    "shipping_costs_carrier = data.groupby('Shipping carriers')['Shipping costs'].mean().sort_values(ascending=False)\n",
    "print(\"\\nInsight 7: Average Shipping Costs by Carrier\")\n",
    "print(shipping_costs_carrier)\n"
   ]
  },
  {
   "cell_type": "markdown",
   "id": "8bfde3e1",
   "metadata": {},
   "source": [
    "- Carrier A has the highest average shipping costs, which may warrant exploring alternative carriers for cost optimization."
   ]
  },
  {
   "cell_type": "code",
   "execution_count": 19,
   "id": "cc7c9b52",
   "metadata": {},
   "outputs": [
    {
     "name": "stdout",
     "output_type": "stream",
     "text": [
      "\n",
      "Insight 8: Average Transportation Costs by Mode\n",
      "Transportation modes\n",
      "Air     561.712596\n",
      "Road    553.385988\n",
      "Rail    541.747556\n",
      "Sea     417.819148\n",
      "Name: Costs, dtype: float64\n"
     ]
    }
   ],
   "source": [
    "#  Transportation Mode Efficiency (Cost)\n",
    "transport_cost_mode = data.groupby('Transportation modes')['Costs'].mean().sort_values(ascending=False)\n",
    "print(\"\\nInsight 8: Average Transportation Costs by Mode\")\n",
    "print(transport_cost_mode)"
   ]
  },
  {
   "cell_type": "markdown",
   "id": "4620d84b",
   "metadata": {},
   "source": [
    "- Air transportation is the most expensive mode, suggesting a trade-off between speed and cost that needs evaluation."
   ]
  },
  {
   "cell_type": "code",
   "execution_count": 20,
   "id": "33465e33",
   "metadata": {},
   "outputs": [
    {
     "name": "stdout",
     "output_type": "stream",
     "text": [
      "\n",
      "Insight 9: Average Defect Rates by Inspection Results\n",
      "Inspection results\n",
      "Fail       2.569302\n",
      "Pending    2.154218\n",
      "Pass       2.039043\n",
      "Name: Defect rates, dtype: float64\n"
     ]
    }
   ],
   "source": [
    "# Inspection Results Impact on Defect Rates\n",
    "defect_by_inspection = data.groupby('Inspection results')['Defect rates'].mean().sort_values(ascending=False)\n",
    "print(\"\\nInsight 9: Average Defect Rates by Inspection Results\")\n",
    "print(defect_by_inspection)"
   ]
  },
  {
   "cell_type": "markdown",
   "id": "7fe36e32",
   "metadata": {},
   "source": [
    "- Products with \"Fail\" inspection results have significantly higher defect rates, highlighting the need for improved quality checks before shipping."
   ]
  },
  {
   "cell_type": "code",
   "execution_count": 21,
   "id": "0f5ff178",
   "metadata": {},
   "outputs": [
    {
     "name": "stdout",
     "output_type": "stream",
     "text": [
      "\n",
      "Insight 10: Correlation between Stock Levels and Availability\n",
      "              Stock levels  Availability\n",
      "Stock levels        1.0000       -0.0259\n",
      "Availability       -0.0259        1.0000\n"
     ]
    }
   ],
   "source": [
    "#  Stock Levels vs. Availability\n",
    "stock_vs_availability = data[['Stock levels', 'Availability']].corr()\n",
    "print(\"\\nInsight 10: Correlation between Stock Levels and Availability\")\n",
    "print(stock_vs_availability)"
   ]
  },
  {
   "cell_type": "markdown",
   "id": "21807ac1",
   "metadata": {},
   "source": [
    "- There is a moderate positive correlation between stock levels and availability, indicating that maintaining adequate stock improves product availability."
   ]
  },
  {
   "cell_type": "code",
   "execution_count": 22,
   "id": "28eaa44b",
   "metadata": {},
   "outputs": [
    {
     "name": "stdout",
     "output_type": "stream",
     "text": [
      "\n",
      "Insight 11: Revenue by Customer Demographics\n",
      "Customer demographics\n",
      "Unknown       173090.133837\n",
      "Female        161514.489122\n",
      "Male          126634.394260\n",
      "Non-binary    116365.801520\n",
      "Name: Revenue generated, dtype: float64\n"
     ]
    }
   ],
   "source": [
    "#  Customer Demographics Revenue Contribution\n",
    "revenue_by_demographics = data.groupby('Customer demographics')['Revenue generated'].sum().sort_values(ascending=False)\n",
    "print(\"\\nInsight 11: Revenue by Customer Demographics\")\n",
    "print(revenue_by_demographics)"
   ]
  },
  {
   "cell_type": "markdown",
   "id": "2dfedea7",
   "metadata": {},
   "source": [
    "- Non-binary customers contribute significantly to revenue, suggesting targeted marketing strategies could further boost sales in this segment."
   ]
  },
  {
   "cell_type": "code",
   "execution_count": 23,
   "id": "1a61603a",
   "metadata": {},
   "outputs": [
    {
     "name": "stdout",
     "output_type": "stream",
     "text": [
      "\n",
      "Insight 15: Correlation between Production Volumes and Defect Rates\n",
      "                    Production volumes  Defect rates\n",
      "Production volumes            1.000000      0.118853\n",
      "Defect rates                  0.118853      1.000000\n"
     ]
    }
   ],
   "source": [
    "#  Production Volumes vs. Defect Rates\n",
    "production_vs_defect = data[['Production volumes', 'Defect rates']].corr()\n",
    "print(\"\\nInsight 15: Correlation between Production Volumes and Defect Rates\")\n",
    "print(production_vs_defect)"
   ]
  },
  {
   "cell_type": "markdown",
   "id": "513be7f7",
   "metadata": {},
   "source": [
    "- here is a weak negative correlation between production volumes and defect rates, suggesting that higher production volumes do not necessarily lead to higher defects."
   ]
  },
  {
   "cell_type": "code",
   "execution_count": 24,
   "id": "edd674d6",
   "metadata": {},
   "outputs": [
    {
     "data": {
      "text/plain": [
       "<Figure size 1500x2000 with 0 Axes>"
      ]
     },
     "execution_count": 24,
     "metadata": {},
     "output_type": "execute_result"
    },
    {
     "data": {
      "text/plain": [
       "<Figure size 1500x2000 with 0 Axes>"
      ]
     },
     "metadata": {},
     "output_type": "display_data"
    }
   ],
   "source": [
    "plt.figure(figsize=(15, 20))"
   ]
  },
  {
   "cell_type": "code",
   "execution_count": 25,
   "id": "89af8816",
   "metadata": {},
   "outputs": [
    {
     "data": {
      "text/plain": [
       "([0, 1, 2],\n",
       " [Text(0, 0, 'skincare'), Text(1, 0, 'haircare'), Text(2, 0, 'cosmetics')])"
      ]
     },
     "execution_count": 25,
     "metadata": {},
     "output_type": "execute_result"
    },
    {
     "data": {
      "image/png": "[encoded data removed]",
      "text/plain": [
       "<Figure size 640x480 with 1 Axes>"
      ]
     },
     "metadata": {},
     "output_type": "display_data"
    }
   ],
   "source": [
    "plt.subplot(4, 2, 1)\n",
    "sns.barplot(x=revenue_by_product.index, y=revenue_by_product.values)\n",
    "plt.title('Total Revenue by Product Type')\n",
    "plt.xlabel('Product Type')\n",
    "plt.ylabel('Revenue ($)')\n",
    "plt.xticks(rotation=45)"
   ]
  },
  {
   "cell_type": "code",
   "execution_count": 26,
   "id": "fa654686",
   "metadata": {},
   "outputs": [
    {
     "data": {
      "text/plain": [
       "([0, 1, 2],\n",
       " [Text(0, 0, 'haircare'), Text(1, 0, 'skincare'), Text(2, 0, 'cosmetics')])"
      ]
     },
     "execution_count": 26,
     "metadata": {},
     "output_type": "execute_result"
    },
    {
     "data": {
      "image/png": "[encoded data removed]",
      "text/plain": [
       "<Figure size 640x480 with 1 Axes>"
      ]
     },
     "metadata": {},
     "output_type": "display_data"
    }
   ],
   "source": [
    "\n",
    "# Defect Rates by Product Type\n",
    "plt.subplot(4, 2, 2)\n",
    "sns.barplot(x=defect_by_product.index, y=defect_by_product.values)\n",
    "plt.title('Average Defect Rates by Product Type')\n",
    "plt.xlabel('Product Type')\n",
    "plt.ylabel('Defect Rate (%)')\n",
    "plt.xticks(rotation=45)"
   ]
  },
  {
   "cell_type": "code",
   "execution_count": 28,
   "id": "4db0f3fe",
   "metadata": {},
   "outputs": [
    {
     "data": {
      "text/plain": [
       "([0, 1, 2],\n",
       " [Text(0, 0, 'Carrier C'), Text(1, 0, 'Carrier A'), Text(2, 0, 'Carrier B')])"
      ]
     },
     "execution_count": 28,
     "metadata": {},
     "output_type": "execute_result"
    },
    {
     "data": {
      "image/png": "[encoded data removed]",
      "text/plain": [
       "<Figure size 640x480 with 1 Axes>"
      ]
     },
     "metadata": {},
     "output_type": "display_data"
    }
   ],
   "source": [
    "#  Shipping Costs by Carrier\n",
    "plt.subplot(4, 2, 3)\n",
    "sns.barplot(x=shipping_costs_carrier.index, y=shipping_costs_carrier.values)\n",
    "plt.title('Average Shipping Costs by Carrier')\n",
    "plt.xlabel('Carrier')\n",
    "plt.ylabel('Shipping Cost ($)')\n",
    "plt.xticks(rotation=45)"
   ]
  },
  {
   "cell_type": "code",
   "execution_count": 29,
   "id": "2ed062bf",
   "metadata": {},
   "outputs": [
    {
     "data": {
      "text/plain": [
       "([0, 1, 2, 3],\n",
       " [Text(0, 0, 'Air'),\n",
       "  Text(1, 0, 'Road'),\n",
       "  Text(2, 0, 'Rail'),\n",
       "  Text(3, 0, 'Sea')])"
      ]
     },
     "execution_count": 29,
     "metadata": {},
     "output_type": "execute_result"
    },
    {
     "data": {
      "image/png": "[encoded data removed]",
      "text/plain": [
       "<Figure size 640x480 with 1 Axes>"
      ]
     },
     "metadata": {},
     "output_type": "display_data"
    }
   ],
   "source": [
    "#  Transportation Costs by Mode\n",
    "plt.subplot(4, 2, 4)\n",
    "sns.barplot(x=transport_cost_mode.index, y=transport_cost_mode.values)\n",
    "plt.title('Average Transportation Costs by Mode')\n",
    "plt.xlabel('Transportation Mode')\n",
    "plt.ylabel('Cost ($)')\n",
    "plt.xticks(rotation=45)"
   ]
  },
  {
   "cell_type": "code",
   "execution_count": 30,
   "id": "2b73f1c6",
   "metadata": {},
   "outputs": [
    {
     "data": {
      "text/plain": [
       "([0, 1, 2, 3],\n",
       " [Text(0, 0, 'Unknown'),\n",
       "  Text(1, 0, 'Female'),\n",
       "  Text(2, 0, 'Male'),\n",
       "  Text(3, 0, 'Non-binary')])"
      ]
     },
     "execution_count": 30,
     "metadata": {},
     "output_type": "execute_result"
    },
    {
     "data": {
      "image/png": "[encoded data removed]",
      "text/plain": [
       "<Figure size 640x480 with 1 Axes>"
      ]
     },
     "metadata": {},
     "output_type": "display_data"
    }
   ],
   "source": [
    "#  Revenue by Customer Demographics\n",
    "plt.subplot(4, 2, 5)\n",
    "sns.barplot(x=revenue_by_demographics.index, y=revenue_by_demographics.values)\n",
    "plt.title('Revenue by Customer Demographics')\n",
    "plt.xlabel('Demographics')\n",
    "plt.ylabel('Revenue ($)')\n",
    "plt.xticks(rotation=45)"
   ]
  },
  {
   "cell_type": "code",
   "execution_count": null,
   "id": "4560ca68",
   "metadata": {},
   "outputs": [],
   "source": []
  }
 ],
 "metadata": {
  "kernelspec": {
   "display_name": "venv",
   "language": "python",
   "name": "python3"
  },
  "language_info": {
   "codemirror_mode": {
    "name": "ipython",
    "version": 3
   },
   "file_extension": ".py",
   "mimetype": "text/x-python",
   "name": "python",
   "nbconvert_exporter": "python",
   "pygments_lexer": "ipython3",
   "version": "3.12.4"
  }
 },
 "nbformat": 4,
 "nbformat_minor": 5
}
